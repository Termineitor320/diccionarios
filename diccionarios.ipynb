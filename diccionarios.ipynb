{
  "nbformat": 4,
  "nbformat_minor": 0,
  "metadata": {
    "colab": {
      "provenance": [],
      "authorship_tag": "ABX9TyMuOOyyf8nGLnsfJpt8xX4I",
      "include_colab_link": true
    },
    "kernelspec": {
      "name": "python3",
      "display_name": "Python 3"
    },
    "language_info": {
      "name": "python"
    }
  },
  "cells": [
    {
      "cell_type": "markdown",
      "metadata": {
        "id": "view-in-github",
        "colab_type": "text"
      },
      "source": [
        "<a href=\"https://colab.research.google.com/github/Termineitor320/diccionarios/blob/main/diccionarios.ipynb\" target=\"_parent\"><img src=\"https://colab.research.google.com/assets/colab-badge.svg\" alt=\"Open In Colab\"/></a>"
      ]
    },
    {
      "cell_type": "markdown",
      "source": [
        "# diccionarios\n",
        "\n",
        "- son datos estructurados , es decir ,  hace referencia a una coleccion de datos.\n",
        "\n",
        "- son una coleccion desordenada de pares de datos de la forma clave:valor, conocidos como elementos o items.\n",
        "\n",
        "- son mutables , por lo tanto , una vez definido un diccionario se le pueden agregar nuevos elementos, modificar o eliminar algunos de los que ya tiene.\n",
        "\n",
        "- Tambien se les conoce como mapa de hash o arreglos asociativos.\n",
        "\n",
        "- En python los diccionarios son de tipo dict y se utiliza la siguiente sintaxis para crear una variable de este tipo:\n",
        "\n",
        "```nombre_dict = {clave1:valor1, clave2:valor2}```\n",
        "- cada item o elemento tiene la forma clave:valor.\n",
        "- en cada item hay una clave y uno o mas valores. Si se desconoce el valor se puede llenar con ```None```\n",
        "- Los elementos del diccionario se indexan por la clave.\n",
        "- las claves solo pueden ser datos inmutables.\n",
        "- las claves no pueden repetirse dentro de un diccionario.\n",
        "\n",
        "\n"
      ],
      "metadata": {
        "id": "DH9ZaAxgpiNB"
      }
    },
    {
      "cell_type": "code",
      "execution_count": 3,
      "metadata": {
        "colab": {
          "base_uri": "https://localhost:8080/"
        },
        "id": "glnPv4Fgpa_z",
        "outputId": "e44abb06-42c1-4ff8-d2d2-3c3c1f425de0"
      },
      "outputs": [
        {
          "output_type": "stream",
          "name": "stdout",
          "text": [
            "{'ene': 31, 'feb': 28, 'mar': 31, 'abr': 30, 'may': 31, 'jun': 30, 'jul': 31, 'ago': 3, 'sep': 30, 'oct': 31, 'nov': 30, 'dic': 31}\n",
            "{'ene': 'Enero', 'feb': 'Febrero', 'mar': 'Marzo', 'abr': 'Abril', 'may': 'Mayo', 'jun': 'Junio', 'jul': 'Julio', 'ago': 'Agosto', 'sep': 'Septiembre', 'oct': 'Octubre', 'nov': 'Noviembre', 'dic': 'Diciembre'}\n",
            "{'manzana': 34, 'pera': 45, 'uva': 23}\n",
            "{'manzana': 34, 'pera': 45, 'uva': 23, 'cereza': 90}\n",
            "{'manzana': 34, 'pera': 45, 'uva': 23}\n",
            "el valor de manzana es:  34\n"
          ]
        }
      ],
      "source": [
        "# diccionario con clave tipo cadena\n",
        "\n",
        "num_meses = {'ene':31, 'feb':28, 'mar':31, 'abr':30, 'may':31, 'jun':30, 'jul':31, 'ago':3, 'sep':30, 'oct':31, 'nov':30, 'dic':31}\n",
        "print(num_meses)\n",
        "\n",
        "nombre_meses = {'ene':'Enero', 'feb':'Febrero', 'mar':'Marzo', 'abr':'Abril', 'may':'Mayo', 'jun':'Junio', 'jul':'Julio', 'ago':'Agosto', 'sep':'Septiembre', 'oct':'Octubre', 'nov':'Noviembre', 'dic':'Diciembre'}\n",
        "print(nombre_meses)\n",
        "\n",
        "frutas = {'manzana':34, 'pera':45,'uva':23}\n",
        "print(frutas)\n",
        "\n",
        "# agregar elementos\n",
        "frutas['cereza'] = 90\n",
        "print(frutas)\n",
        "\n",
        "#modificar un elemento\n",
        "frutas['manzana'] = 100\n",
        "print(frutas)\n",
        "\n",
        "# eliminar un elemento\n",
        "del frutas['cereza']\n",
        "print(frutas)\n",
        "\n",
        "# consultar valor dada una clave\n",
        "print( 'el valor de manzana es: ' , frutas ['manzana'])\n"
      ]
    }
  ]
}